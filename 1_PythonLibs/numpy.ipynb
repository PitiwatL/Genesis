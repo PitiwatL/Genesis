{
 "cells": [
  {
   "cell_type": "markdown",
   "id": "6689a71b",
   "metadata": {},
   "source": [
    "### Goal Replacing of Loops"
   ]
  },
  {
   "cell_type": "code",
   "execution_count": 1,
   "id": "5b8edf64",
   "metadata": {},
   "outputs": [],
   "source": [
    "import numpy as np"
   ]
  },
  {
   "cell_type": "code",
   "execution_count": 26,
   "id": "fb7d1e03",
   "metadata": {},
   "outputs": [],
   "source": [
    "mat1 = np.array([\n",
    "    [1, 0.2, 0],\n",
    "    [0.7, 0.3, 0],\n",
    "    [0.5, 0.5, 0.5],\n",
    "    [0, 0, 0.3]\n",
    "])\n",
    "mat2 = mat1"
   ]
  },
  {
   "cell_type": "code",
   "execution_count": 27,
   "id": "84465db7",
   "metadata": {},
   "outputs": [],
   "source": [
    "mask = (mat1 != 0)\n",
    "mask[0, 0] = False   # don’t touch the first value\n",
    "mat2[mask] = 1\n"
   ]
  },
  {
   "cell_type": "code",
   "execution_count": 29,
   "id": "df378e37",
   "metadata": {},
   "outputs": [
    {
     "data": {
      "text/plain": [
       "array([[1., 1., 0.],\n",
       "       [1., 1., 0.],\n",
       "       [1., 1., 1.],\n",
       "       [0., 0., 1.]])"
      ]
     },
     "execution_count": 29,
     "metadata": {},
     "output_type": "execute_result"
    }
   ],
   "source": [
    "mat2"
   ]
  },
  {
   "cell_type": "code",
   "execution_count": 18,
   "id": "ce3f4fca",
   "metadata": {},
   "outputs": [],
   "source": [
    "mat1[mat1 != 0] = 1"
   ]
  },
  {
   "cell_type": "code",
   "execution_count": 20,
   "id": "4b1953cc",
   "metadata": {},
   "outputs": [
    {
     "data": {
      "text/plain": [
       "array([[1., 1., 0.],\n",
       "       [1., 1., 0.],\n",
       "       [1., 1., 1.],\n",
       "       [0., 0., 1.]])"
      ]
     },
     "execution_count": 20,
     "metadata": {},
     "output_type": "execute_result"
    }
   ],
   "source": [
    "mat1"
   ]
  },
  {
   "cell_type": "code",
   "execution_count": null,
   "id": "380dbde4",
   "metadata": {},
   "outputs": [],
   "source": []
  }
 ],
 "metadata": {
  "kernelspec": {
   "display_name": "open-oasis",
   "language": "python",
   "name": "python3"
  },
  "language_info": {
   "codemirror_mode": {
    "name": "ipython",
    "version": 3
   },
   "file_extension": ".py",
   "mimetype": "text/x-python",
   "name": "python",
   "nbconvert_exporter": "python",
   "pygments_lexer": "ipython3",
   "version": "3.10.18"
  }
 },
 "nbformat": 4,
 "nbformat_minor": 5
}
