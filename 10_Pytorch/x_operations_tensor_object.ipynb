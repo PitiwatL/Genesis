{
 "cells": [
  {
   "cell_type": "code",
   "execution_count": null,
   "id": "efdd68bd",
   "metadata": {},
   "outputs": [],
   "source": [
    "import torch\n",
    "import numpy as np\n",
    "import time"
   ]
  },
  {
   "cell_type": "code",
   "execution_count": null,
   "id": "2b657e74",
   "metadata": {},
   "outputs": [
    {
     "name": "stdout",
     "output_type": "stream",
     "text": [
      "NumPy time: 12.039837121963501\n",
      "PyTorch CPU time: 5.016761302947998\n"
     ]
    }
   ],
   "source": [
    "# NumPy\n",
    "a_np = np.random.rand(10000, 10000)\n",
    "b_np = np.random.rand(10000, 10000)\n",
    "start = time.time()\n",
    "c_np = np.dot(a_np, b_np)\n",
    "print(\"NumPy time:\", time.time() - start)\n",
    "\n",
    "# PyTorch (CPU)\n",
    "a_torch = torch.rand(10000, 10000)\n",
    "b_torch = torch.rand(10000, 10000)\n",
    "start = time.time()\n",
    "c_torch = torch.matmul(a_torch, b_torch)\n",
    "print(\"PyTorch CPU time:\", time.time() - start)\n"
   ]
  },
  {
   "cell_type": "code",
   "execution_count": 4,
   "id": "1237e2d5",
   "metadata": {},
   "outputs": [
    {
     "name": "stdout",
     "output_type": "stream",
     "text": [
      "NumPy time: 12.057940006256104\n",
      "PyTorch CPU time: 4.983332395553589\n"
     ]
    }
   ],
   "source": [
    "# NumPy\n",
    "a_np = np.random.rand(10000, 10000)\n",
    "b_np = np.random.rand(10000, 10000)\n",
    "start = time.time()\n",
    "c_np = np.dot(a_np, b_np)\n",
    "print(\"NumPy time:\", time.time() - start)\n",
    "\n",
    "# PyTorch (CPU)\n",
    "a_torch = torch.rand(10000, 10000)\n",
    "b_torch = torch.rand(10000, 10000)\n",
    "start = time.time()\n",
    "c_torch = torch.matmul(a_torch, b_torch)\n",
    "print(\"PyTorch CPU time:\", time.time() - start)"
   ]
  },
  {
   "cell_type": "code",
   "execution_count": null,
   "id": "3f61b51d",
   "metadata": {},
   "outputs": [],
   "source": []
  }
 ],
 "metadata": {
  "kernelspec": {
   "display_name": "open-oasis",
   "language": "python",
   "name": "python3"
  },
  "language_info": {
   "codemirror_mode": {
    "name": "ipython",
    "version": 3
   },
   "file_extension": ".py",
   "mimetype": "text/x-python",
   "name": "python",
   "nbconvert_exporter": "python",
   "pygments_lexer": "ipython3",
   "version": "3.10.18"
  }
 },
 "nbformat": 4,
 "nbformat_minor": 5
}
